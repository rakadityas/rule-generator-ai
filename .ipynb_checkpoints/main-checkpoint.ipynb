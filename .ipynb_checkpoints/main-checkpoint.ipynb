{
 "cells": [
  {
   "cell_type": "markdown",
   "id": "016e756d",
   "metadata": {},
   "source": [
    "## Setup\n",
    "Initialize OpenAI lib, insert your key here."
   ]
  },
  {
   "cell_type": "code",
   "execution_count": 1,
   "id": "67e8d92e",
   "metadata": {},
   "outputs": [],
   "source": [
    "import openai\n",
    "import os\n",
    "\n",
    "openai.api_key = ''\n",
    "openai.organization = ''"
   ]
  },
  {
   "cell_type": "code",
   "execution_count": 2,
   "id": "446a1927",
   "metadata": {},
   "outputs": [],
   "source": [
    "def get_completion(prompt, model=\"gpt-3.5-turbo\"):\n",
    "    messages = [{\"role\": \"user\", \"content\": prompt}]\n",
    "    response = openai.ChatCompletion.create(\n",
    "        model=model,\n",
    "        messages=messages,\n",
    "        temperature=0,\n",
    "    )\n",
    "    return response.choices[0].message[\"content\"]"
   ]
  },
  {
   "cell_type": "markdown",
   "id": "3935193d",
   "metadata": {},
   "source": [
    "## Context\n",
    "Give context for the model to learn. Explain as verbose as possible to ensure the AI understand your command."
   ]
  },
  {
   "cell_type": "code",
   "execution_count": 3,
   "id": "4702d904",
   "metadata": {},
   "outputs": [],
   "source": [
    "master_client_context = \"\"\"\n",
    "a master data for identifying to what client the rules shall applies.\n",
    "consists of id (predefined identifier) and name (client name).\n",
    "\n",
    "here is the known clients in the database:\n",
    "[{\\\"id\\\":123,\\\"name\\\":\\\"Marketplace\\\"},{\\\"id\\\":124,\\\"name\\\":\\\"Digital\\\"}]\n",
    "\"\"\""
   ]
  },
  {
   "cell_type": "code",
   "execution_count": 4,
   "id": "36682396",
   "metadata": {},
   "outputs": [],
   "source": [
    "master_data_types_context = \"\"\"\n",
    "a master data for identifying to data types shall the rule applies.\n",
    "consists of id (predefined identifier), name (data types name) and value (actual data types format).\n",
    "\n",
    "here is the known data types in the database:\n",
    "[{\\\"id\\\":20,\\\"name\\\":\\\"Total Recharge Price\\\",\\\"value\\\":\\\"total_recharge_price\\\"},{\\\"id\\\":14,\\\"name\\\":\\\"Total Product Price\\\",\\\"value\\\":\\\"total_product_price\\\"},{\\\"id\\\":23,\\\"name\\\":\\\"Pulsa Product\\\",\\\"value\\\":\\\"product_code\\\"},{\\\"id\\\":36,\\\"name\\\":\\\"Shipping ID\\\",\\\"value\\\":\\\"shipping_id\\\"}]\n",
    "\"\"\""
   ]
  },
  {
   "cell_type": "code",
   "execution_count": 5,
   "id": "79dbc470",
   "metadata": {},
   "outputs": [],
   "source": [
    "master_rules_context = \"\"\"\n",
    "a master data of rules template, a combination of master_client and master_data_types.\n",
    "consists of id (predefined identifier), name (string of rule name), description (brief explanation of the rule could do), slug (predefined string) and json_template (template for transaction_rules, listing of available fields configurable by the user, you'll need to generate transaction_rules from this json template)\n",
    "\n",
    "here is the known data types in the database:\n",
    "[{\\\"id\\\":39,\\\"name\\\":\\\"Shipping ID validation\\\",\\\"description\\\":\\\"Validate Shipping ID from MarketPlace Order\\\",\\\"slug\\\":\\\"IsValidCourier\\\",\\\"json_template\\\":\\\"{\\\\\\\"label\\\\\\\":\\\\\\\"Valid for Shipping Courier\\\\\\\",\\\\\\\"name\\\\\\\":\\\\\\\"valid_shipping_courier\\\\\\\",\\\\\\\"rule_type\\\\\\\":39,\\\\\\\"available_services\\\\\\\":[123],\\\\\\\"fields\\\\\\\":[{\\\\\\\"label\\\\\\\":\\\\\\\"Valid courier \\\\\\\",\\\\\\\"name\\\\\\\":\\\\\\\"valid_shipping_courier_list\\\\\\\",\\\\\\\"field_type\\\\\\\":\\\\\\\"list\\\\\\\",\\\\\\\"mandatory\\\\\\\":true,\\\\\\\"options\\\\\\\":[{\\\\\\\"name\\\\\\\":\\\\\\\"1\\\\\\\",\\\\\\\"label\\\\\\\":\\\\\\\"Courier X\\\\\\\"},{\\\\\\\"name\\\\\\\":\\\\\\\"2\\\\\\\",\\\\\\\"label\\\\\\\":\\\\\\\"Courier Y\\\\\\\"},{\\\\\\\"name\\\\\\\":\\\\\\\"4\\\\\\\",\\\\\\\"label\\\\\\\":\\\\\\\"Courier Z\\\\\\\"}]},{\\\\\\\"label\\\\\\\":\\\\\\\"with message \\\\\\\",\\\\\\\"name\\\\\\\":\\\\\\\"valid_shipping_courier_description\\\\\\\",\\\\\\\"field_type\\\\\\\":\\\\\\\"text\\\\\\\",\\\\\\\"mandatory\\\\\\\":false,\\\\\\\"rule_name\\\\\\\":{\\\\\\\"prefix\\\\\\\":\\\\\\\"\\\\\\\\\\\\\\\"\\\\\\\",\\\\\\\"affix\\\\\\\":\\\\\\\"\\\\\\\\\\\\\\\".\\\\\\\"}},{\\\\\\\"label\\\\\\\":\\\\\\\"based on\\\\\\\",\\\\\\\"name\\\\\\\":\\\\\\\"data_type\\\\\\\",\\\\\\\"field_type\\\\\\\":\\\\\\\"data_type\\\\\\\",\\\\\\\"mandatory\\\\\\\":true,\\\\\\\"optionsarray\\\\\\\":[36],\\\\\\\"rule_name\\\\\\\":{\\\\\\\"affix\\\\\\\":\\\\\\\".\\\\\\\"}}]}\\\"},{\\\"id\\\":71,\\\"name\\\":\\\"Calculate Discount\\\",\\\"description\\\":\\\"Calculation Discount for Fixed and Percentage\\\",\\\"slug\\\":\\\"CalculateDirectDiscountAction\\\",\\\"json_template\\\":\\\"{\\\\\\\"label\\\\\\\":\\\\\\\"Direct Discount\\\\\\\",\\\\\\\"name\\\\\\\":\\\\\\\"give_direct_discount\\\\\\\",\\\\\\\"rule_type\\\\\\\":71,\\\\\\\"available_services\\\\\\\":[],\\\\\\\"fields\\\\\\\":[{\\\\\\\"label\\\\\\\":\\\\\\\"Discount type\\\\\\\",\\\\\\\"name\\\\\\\":\\\\\\\"give_direct_discount_type\\\\\\\",\\\\\\\"options\\\\\\\":[{\\\\\\\"label\\\\\\\":\\\\\\\"Percentage\\\\\\\",\\\\\\\"fields\\\\\\\":[{\\\\\\\"label\\\\\\\":\\\\\\\"With percentage amount\\\\\\\",\\\\\\\"name\\\\\\\":\\\\\\\"give_direct_discount_percent_value\\\\\\\",\\\\\\\"field_type\\\\\\\":\\\\\\\"percentage\\\\\\\",\\\\\\\"mandatory\\\\\\\":true},{\\\\\\\"label\\\\\\\":\\\\\\\"and maximum discount amount\\\\\\\",\\\\\\\"name\\\\\\\":\\\\\\\"give_direct_discount_percent_maxvalue\\\\\\\",\\\\\\\"field_type\\\\\\\":\\\\\\\"rupiah\\\\\\\",\\\\\\\"mandatory\\\\\\\":false}]}],\\\\\\\"mandatory\\\\\\\":true},{\\\\\\\"label\\\\\\\":\\\\\\\"based on\\\\\\\",\\\\\\\"name\\\\\\\":\\\\\\\"data_type\\\\\\\",\\\\\\\"field_type\\\\\\\":\\\\\\\"data_type\\\\\\\",\\\\\\\"mandatory\\\\\\\":true,\\\\\\\"optionsarray\\\\\\\":[20,14],\\\\\\\"rule_name\\\\\\\":{\\\\\\\"affix\\\\\\\":\\\\\\\".\\\\\\\"}}]}\\\"},{\\\"id\\\":123,\\\"name\\\":\\\"Calculate Cashback Action\\\",\\\"description\\\":\\\"Calculate Cashback for Fixed and Percentage\\\",\\\"slug\\\":\\\"CalculateCashbackAction\\\",\\\"json_template\\\":\\\"{\\\\\\\"label\\\\\\\":\\\\\\\"Cashback to Points\\\\\\\",\\\\\\\"name\\\\\\\":\\\\\\\"cashback_points\\\\\\\",\\\\\\\"rule_type\\\\\\\":123,\\\\\\\"available_services\\\\\\\":[123,124],\\\\\\\"fields\\\\\\\":[{\\\\\\\"label\\\\\\\":\\\\\\\"Cashback type\\\\\\\",\\\\\\\"name\\\\\\\":\\\\\\\"cashback_topcash_type\\\\\\\",\\\\\\\"mandatory\\\\\\\":true,\\\\\\\"options\\\\\\\":[{\\\\\\\"label\\\\\\\":\\\\\\\"Fixed\\\\\\\",\\\\\\\"name\\\\\\\":\\\\\\\"1\\\\\\\",\\\\\\\"fields\\\\\\\":[{\\\\\\\"label\\\\\\\":\\\\\\\"With amount\\\\\\\",\\\\\\\"name\\\\\\\":\\\\\\\"cashback_topcash_value\\\\\\\",\\\\\\\"field_type\\\\\\\":\\\\\\\"rupiah\\\\\\\",\\\\\\\"mandatory\\\\\\\":true}]},{\\\\\\\"label\\\\\\\":\\\\\\\"Percentage\\\\\\\",\\\\\\\"name\\\\\\\":\\\\\\\"2\\\\\\\",\\\\\\\"fields\\\\\\\":[{\\\\\\\"label\\\\\\\":\\\\\\\"With percentage amount\\\\\\\",\\\\\\\"name\\\\\\\":\\\\\\\"cashback_topcash_value\\\\\\\",\\\\\\\"field_type\\\\\\\":\\\\\\\"percentage\\\\\\\",\\\\\\\"mandatory\\\\\\\":true},{\\\\\\\"label\\\\\\\":\\\\\\\"and maximum cashback amount\\\\\\\",\\\\\\\"name\\\\\\\":\\\\\\\"cashback_topcash_maximum\\\\\\\",\\\\\\\"field_type\\\\\\\":\\\\\\\"rupiah\\\\\\\",\\\\\\\"mandatory\\\\\\\":false}]}]},{\\\\\\\"label\\\\\\\":\\\\\\\"based on\\\\\\\",\\\\\\\"name\\\\\\\":\\\\\\\"data_type\\\\\\\",\\\\\\\"field_type\\\\\\\":\\\\\\\"data_type\\\\\\\",\\\\\\\"mandatory\\\\\\\":true,\\\\\\\"optionsarray\\\\\\\":[20,14],\\\\\\\"rule_name\\\\\\\":{\\\\\\\"affix\\\\\\\":\\\\\\\".\\\\\\\"}},{\\\\\\\"label\\\\\\\":\\\\\\\"Cashback To\\\\\\\",\\\\\\\"name\\\\\\\":\\\\\\\"cashback_to\\\\\\\",\\\\\\\"field_type\\\\\\\":\\\\\\\"select\\\\\\\",\\\\\\\"mandatory\\\\\\\":true,\\\\\\\"rule_name\\\\\\\":{\\\\\\\"is_excluded\\\\\\\":true},\\\\\\\"options\\\\\\\":[{\\\\\\\"label\\\\\\\":\\\\\\\"Doge Coins\\\\\\\",\\\\\\\"name\\\\\\\":\\\\\\\"doge_coins\\\\\\\"},{\\\\\\\"label\\\\\\\":\\\\\\\"Bit Coins\\\\\\\",\\\\\\\"name\\\\\\\":\\\\\\\"bitcoins\\\\\\\"}]}]}\\\"}]\n",
    "\"\"\""
   ]
  },
  {
   "cell_type": "code",
   "execution_count": 6,
   "id": "8a606193",
   "metadata": {},
   "outputs": [],
   "source": [
    "transaction_rules_context = \"\"\"\n",
    "a transaction data, a combination of master_client, master_data_types and master_rules. Consists of id (generated through database increment), rules_type_id (id of master_rules), data_types_id (id of master_data_types), client_id (id of master_client), json_rules (generated through master_rules json_template fields, based on users input), name (a generated string of description based on json_rules)\n",
    "\n",
    "here is an example of generated transaction_rules:\n",
    "[{\\\"id\\\":1,\\\"rule_types_id\\\":123,\\\"data_type_id\\\":20,\\\"name\\\":\\\"With percentage amount 1% and maximum cashback amount Rp25.000,- based on Total Recharge Price Cashback To GoPay Coins\\\",\\\"client_id\\\":124,\\\"json_rules\\\":\\\"{\\\\\\\"name\\\\\\\":\\\\\\\"cashback_points\\\\\\\",\\\\\\\"fields\\\\\\\":[{\\\\\\\"name\\\\\\\":\\\\\\\"cashback_topcash_type\\\\\\\",\\\\\\\"value\\\\\\\":\\\\\\\"2\\\\\\\",\\\\\\\"fields\\\\\\\":[{\\\\\\\"name\\\\\\\":\\\\\\\"cashback_topcash_value\\\\\\\",\\\\\\\"value\\\\\\\":\\\\\\\"1\\\\\\\"},{\\\\\\\"name\\\\\\\":\\\\\\\"cashback_topcash_maximum\\\\\\\",\\\\\\\"value\\\\\\\":\\\\\\\"25000\\\\\\\"}]},{\\\\\\\"name\\\\\\\":\\\\\\\"data_type\\\\\\\",\\\\\\\"value\\\\\\\":\\\\\\\"20\\\\\\\"},{\\\\\\\"name\\\\\\\":\\\\\\\"cashback_to\\\\\\\",\\\\\\\"value\\\\\\\":\\\\\\\"doge_coins\\\\\\\"}]}\\\"},{\\\"id\\\":1,\\\"rule_types_id\\\":123,\\\"data_type_id\\\":20,\\\"name\\\":\\\"With percentage amount 1% and maximum cashback amount Rp25.000,- based on Total Recharge Price Cashback To GoPay Coins\\\",\\\"client_id\\\":124,\\\"json_rules\\\":\\\"{\\\\\\\"name\\\\\\\":\\\\\\\"cashback_points\\\\\\\",\\\\\\\"fields\\\\\\\":[{\\\\\\\"name\\\\\\\":\\\\\\\"cashback_topcash_type\\\\\\\",\\\\\\\"value\\\\\\\":\\\\\\\"2\\\\\\\",\\\\\\\"fields\\\\\\\":[{\\\\\\\"name\\\\\\\":\\\\\\\"cashback_topcash_value\\\\\\\",\\\\\\\"value\\\\\\\":\\\\\\\"1\\\\\\\"},{\\\\\\\"name\\\\\\\":\\\\\\\"cashback_topcash_maximum\\\\\\\",\\\\\\\"value\\\\\\\":\\\\\\\"25000\\\\\\\"}]},{\\\\\\\"name\\\\\\\":\\\\\\\"data_type\\\\\\\",\\\\\\\"value\\\\\\\":\\\\\\\"20\\\\\\\"},{\\\\\\\"name\\\\\\\":\\\\\\\"cashback_to\\\\\\\",\\\\\\\"value\\\\\\\":\\\\\\\"doge_coins\\\\\\\"}]}\\\"},{\\\"id\\\":2,\\\"rule_types_id\\\":71,\\\"data_type_id\\\":14,\\\"name\\\":\\\"With percentage amount 100% and maximum discount amount Rp20.000,- based on Total Product Price\\\",\\\"client_id\\\":123,\\\"json_rules\\\":\\\"{\\\\\\\"name\\\\\\\":\\\\\\\"give_direct_discount\\\\\\\",\\\\\\\"fields\\\\\\\":[{\\\\\\\"name\\\\\\\":\\\\\\\"give_direct_discount_type\\\\\\\",\\\\\\\"value\\\\\\\":\\\\\\\"2\\\\\\\",\\\\\\\"fields\\\\\\\":[{\\\\\\\"name\\\\\\\":\\\\\\\"give_direct_discount_percent_value\\\\\\\",\\\\\\\"value\\\\\\\":\\\\\\\"100\\\\\\\"},{\\\\\\\"name\\\\\\\":\\\\\\\"give_direct_discount_percent_maxvalue\\\\\\\",\\\\\\\"value\\\\\\\":\\\\\\\"20000\\\\\\\"}]},{\\\\\\\"name\\\\\\\":\\\\\\\"data_type\\\\\\\",\\\\\\\"value\\\\\\\":\\\\\\\"14\\\\\\\"}]}\\\"},{\\\"id\\\":3,\\\"rule_types_id\\\":39,\\\"data_type_id\\\":36,\\\"name\\\":\\\"Valid courier Courier X or Courier Y or Courier Z\\\",\\\"client_id\\\":123,\\\"json_rules\\\":\\\"{\\\\\\\"name\\\\\\\":\\\\\\\"valid_shipping_courier\\\\\\\",\\\\\\\"fields\\\\\\\":[{\\\\\\\"name\\\\\\\":\\\\\\\"valid_shipping_courier_list\\\\\\\",\\\\\\\"value\\\\\\\":\\\\\\\"10,11,12\\\\\\\"},{\\\\\\\"name\\\\\\\":\\\\\\\"valid_shipping_courier_description\\\\\\\",\\\\\\\"value\\\\\\\":\\\\\\\"Courier X, Courier Y, Courier Z\\\\\\\"},{\\\\\\\"name\\\\\\\":\\\\\\\"data_type\\\\\\\",\\\\\\\"value\\\\\\\":\\\\\\\"36\\\\\\\"}]}\\\"}]\n",
    "\"\"\""
   ]
  },
  {
   "cell_type": "code",
   "execution_count": 7,
   "id": "e59df3da",
   "metadata": {},
   "outputs": [],
   "source": [
    "example_context = \"\"\"\n",
    "# Context 1.A\n",
    "SCENARIO validate shipping courier for marketplace\n",
    "GIVEN a courier fields \n",
    "WHEN courier is Courier X OR Courier Y OR Courier Z\n",
    "THEN return success\n",
    "\n",
    "you should generate transaction_rules like this:\n",
    "[{\\\"id\\\":0,\\\"rule_types_id\\\":39,\\\"data_type_id\\\":36,\\\"name\\\":\\\"Valid courier Courier X or Courier Y or Courier Z\\\",\\\"client_id\\\":123,\\\"json_rules\\\":\\\"{\\\\\\\"name\\\\\\\":\\\\\\\"valid_shipping_courier\\\\\\\",\\\\\\\"fields\\\\\\\":[{\\\\\\\"name\\\\\\\":\\\\\\\"valid_shipping_courier_list\\\\\\\",\\\\\\\"value\\\\\\\":\\\\\\\"10,12\\\\\\\"},{\\\\\\\"name\\\\\\\":\\\\\\\"valid_shipping_courier_description\\\\\\\",\\\\\\\"value\\\\\\\":\\\\\\\"Courier X, Courier Z\\\\\\\"},{\\\\\\\"name\\\\\\\":\\\\\\\"data_type\\\\\\\",\\\\\\\"value\\\\\\\":\\\\\\\"36\\\\\\\"}]}\\\"}]\n",
    "\n",
    "# Context 2\n",
    "SCENARIO calculate cashback to doge coins for digital\n",
    "GIVEN a total recharge price\n",
    "THEN give a 1% cashback up to 25000 based on total recharge price\n",
    "\n",
    "you should generate transaction rules json like this:\n",
    "[{\\\"id\\\":0,\\\"rule_types_id\\\":123,\\\"data_type_id\\\":20,\\\"name\\\":\\\"With percentage amount 1% and maximum cashback amount Rp25.000,- based on Total Recharge Price Cashback To doge coins\\\",\\\"client_id\\\":123,\\\"json_rules\\\":\\\"{\\\\\\\"name\\\\\\\":\\\\\\\"cashback_points\\\\\\\",\\\\\\\"fields\\\\\\\":[{\\\\\\\"name\\\\\\\":\\\\\\\"cashback_topcash_type\\\\\\\",\\\\\\\"value\\\\\\\":\\\\\\\"2\\\\\\\",\\\\\\\"fields\\\\\\\":[{\\\\\\\"name\\\\\\\":\\\\\\\"cashback_topcash_value\\\\\\\",\\\\\\\"value\\\\\\\":\\\\\\\"1\\\\\\\"},{\\\\\\\"name\\\\\\\":\\\\\\\"cashback_topcash_maximum\\\\\\\",\\\\\\\"value\\\\\\\":\\\\\\\"25000\\\\\\\"}]},{\\\\\\\"name\\\\\\\":\\\\\\\"data_type\\\\\\\",\\\\\\\"value\\\\\\\":\\\\\\\"20\\\\\\\"},{\\\\\\\"name\\\\\\\":\\\\\\\"cashback_to\\\\\\\",\\\\\\\"value\\\\\\\":\\\\\\\"doge_coins\\\\\\\"}]}\\\"}]\n",
    "\n",
    "\n",
    "# Context 3\n",
    "SCENARIO calculate discount amount for marketplace\n",
    "GIVEN a total product price\n",
    "THEN give a 100% discount up to 20000 based on total product price\n",
    "\n",
    "you should generate transaction rules json like this:\n",
    "[{\\\"id\\\":0,\\\"rule_types_id\\\":71,\\\"data_type_id\\\":14,\\\"name\\\":\\\"With percentage amount 100% and maximum discount amount Rp20.000,- based on Total Product Price\\\",\\\"client_id\\\":123,\\\"json_rules\\\":\\\"{\\\\\\\"name\\\\\\\":\\\\\\\"give_direct_discount\\\\\\\",\\\\\\\"fields\\\\\\\":[{\\\\\\\"name\\\\\\\":\\\\\\\"give_direct_discount_type\\\\\\\",\\\\\\\"value\\\\\\\":\\\\\\\"2\\\\\\\",\\\\\\\"fields\\\\\\\":[{\\\\\\\"name\\\\\\\":\\\\\\\"give_direct_discount_percent_value\\\\\\\",\\\\\\\"value\\\\\\\":\\\\\\\"100\\\\\\\"},{\\\\\\\"name\\\\\\\":\\\\\\\"give_direct_discount_percent_maxvalue\\\\\\\",\\\\\\\"value\\\\\\\":\\\\\\\"20000\\\\\\\"}]},{\\\\\\\"name\\\\\\\":\\\\\\\"data_type\\\\\\\",\\\\\\\"value\\\\\\\":\\\\\\\"14\\\\\\\"}]}\\\"}]\n",
    "\n",
    "\n",
    "return the json only without any explanation\n",
    "\"\"\""
   ]
  },
  {
   "cell_type": "markdown",
   "id": "129515b0",
   "metadata": {},
   "source": [
    "## Prompt\n",
    "my_prompt is the user input prompt, in forms of string, using Gherkin format.\n",
    "\n",
    "- SCENARIO explain the objective of the validation\n",
    "- GIVEN fields or data types to valdiate\n",
    "- WHEN fields values\n",
    "- THEN expected rule behaviour"
   ]
  },
  {
   "cell_type": "code",
   "execution_count": 11,
   "id": "0ef11611",
   "metadata": {},
   "outputs": [],
   "source": [
    "my_prompt = \"\"\"\n",
    "SCENARIO calculate cashback to bitcoins for marketplace\n",
    "GIVEN a total product price\n",
    "THEN give a 10% cashback up to 25000 based on total product price\n",
    "\"\"\""
   ]
  },
  {
   "cell_type": "code",
   "execution_count": 12,
   "id": "355632dc",
   "metadata": {},
   "outputs": [],
   "source": [
    "prompt = f\"\"\"\n",
    "Your task is to generate a transaction_rules data based on given user input, prompt example ```{example_context}```.\n",
    "\n",
    "Every transaction_rules consists of master_client, master_rules, master_data_types.\n",
    "master_client is ```{master_client_context}```.\n",
    "master_data_types is ```{master_data_types_context}```.\n",
    "master_rules is ```{master_rules_context}```.\n",
    "\n",
    "\n",
    "My prompt: ```{my_prompt}```\n",
    "\"\"\""
   ]
  },
  {
   "cell_type": "markdown",
   "id": "6c18551c",
   "metadata": {},
   "source": [
    "## Response\n",
    "At this point our code will call open AI for generation. If you want a more detailed and debug format, remove \"return the json only without any explanation\""
   ]
  },
  {
   "cell_type": "code",
   "execution_count": 13,
   "id": "e19a62d1",
   "metadata": {},
   "outputs": [
    {
     "name": "stdout",
     "output_type": "stream",
     "text": [
      "[{\"id\":0,\"rule_types_id\":123,\"data_type_id\":14,\"name\":\"With percentage amount 10% and maximum cashback amount Rp25.000,- based on Total Product Price Cashback To bitcoins\",\"client_id\":123,\"json_rules\":\"{\\\"name\\\":\\\"cashback_points\\\",\\\"fields\\\":[{\\\"name\\\":\\\"cashback_topcash_type\\\",\\\"value\\\":\\\"2\\\",\\\"fields\\\":[{\\\"name\\\":\\\"cashback_topcash_value\\\",\\\"value\\\":\\\"10\\\"},{\\\"name\\\":\\\"cashback_topcash_maximum\\\",\\\"value\\\":\\\"25000\\\"}]},{\\\"name\\\":\\\"data_type\\\",\\\"value\\\":\\\"14\\\"},{\\\"name\\\":\\\"cashback_to\\\",\\\"value\\\":\\\"bitcoins\\\"}]}\"}]\n"
     ]
    }
   ],
   "source": [
    "response = get_completion(prompt)\n",
    "print(response)"
   ]
  },
  {
   "cell_type": "code",
   "execution_count": null,
   "id": "69c5992e",
   "metadata": {},
   "outputs": [],
   "source": []
  }
 ],
 "metadata": {
  "kernelspec": {
   "display_name": "Python 3 (ipykernel)",
   "language": "python",
   "name": "python3"
  },
  "language_info": {
   "codemirror_mode": {
    "name": "ipython",
    "version": 3
   },
   "file_extension": ".py",
   "mimetype": "text/x-python",
   "name": "python",
   "nbconvert_exporter": "python",
   "pygments_lexer": "ipython3",
   "version": "3.10.12"
  }
 },
 "nbformat": 4,
 "nbformat_minor": 5
}
